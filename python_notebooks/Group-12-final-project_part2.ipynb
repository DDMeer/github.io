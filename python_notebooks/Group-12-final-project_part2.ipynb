{
 "cells": [
  {
   "cell_type": "markdown",
   "metadata": {},
   "source": [
    "# IS537 Final Project Part 2\n",
    "##### Group 12 - Andrew Mo, Qitian He, Yingjie Zhao, Zicheng Li"
   ]
  },
  {
   "cell_type": "markdown",
   "metadata": {},
   "source": [
    "### 0. Load in Data"
   ]
  },
  {
   "cell_type": "code",
   "execution_count": 1,
   "metadata": {},
   "outputs": [
    {
     "ename": "ModuleNotFoundError",
     "evalue": "No module named 'vega_datasets'",
     "output_type": "error",
     "traceback": [
      "\u001b[0;31m---------------------------------------------------------------------------\u001b[0m",
      "\u001b[0;31mModuleNotFoundError\u001b[0m                       Traceback (most recent call last)",
      "Input \u001b[0;32mIn [1]\u001b[0m, in \u001b[0;36m<cell line: 5>\u001b[0;34m()\u001b[0m\n\u001b[1;32m      3\u001b[0m \u001b[38;5;28;01mimport\u001b[39;00m \u001b[38;5;21;01mmatplotlib\u001b[39;00m\u001b[38;5;21;01m.\u001b[39;00m\u001b[38;5;21;01mpyplot\u001b[39;00m \u001b[38;5;28;01mas\u001b[39;00m \u001b[38;5;21;01mplt\u001b[39;00m\n\u001b[1;32m      4\u001b[0m \u001b[38;5;28;01mimport\u001b[39;00m \u001b[38;5;21;01maltair\u001b[39;00m \u001b[38;5;28;01mas\u001b[39;00m \u001b[38;5;21;01malt\u001b[39;00m\n\u001b[0;32m----> 5\u001b[0m \u001b[38;5;28;01mfrom\u001b[39;00m \u001b[38;5;21;01mvega_datasets\u001b[39;00m \u001b[38;5;28;01mimport\u001b[39;00m data\n",
      "\u001b[0;31mModuleNotFoundError\u001b[0m: No module named 'vega_datasets'"
     ]
    }
   ],
   "source": [
    "import numpy as np\n",
    "import pandas as pd\n",
    "import matplotlib.pyplot as plt\n",
    "import altair as alt\n",
    "from vega_datasets import data\n",
    "# import ipywidgets"
   ]
  },
  {
   "cell_type": "code",
   "execution_count": null,
   "metadata": {},
   "outputs": [],
   "source": [
    "data_path = 'National_Immunization_Survey_Adult_COVID_Module__NIS-ACM___Vaccination_Status_and_Intent_by_Demographics.csv'\n",
    "\n",
    "raw_df = pd.read_csv(data_path)\n",
    "\n",
    "raw_df['Time Interval'] = raw_df['Time Period'] + ', ' + raw_df['Year'].astype(str)"
   ]
  },
  {
   "cell_type": "markdown",
   "metadata": {},
   "source": [
    "### 1. Functions Definition"
   ]
  },
  {
   "cell_type": "code",
   "execution_count": null,
   "metadata": {},
   "outputs": [],
   "source": [
    "# Constants\n",
    "COL_SELECT = ['Group Category','Indicator Category','Estimate (%)']\n",
    "DEFAULT_FILTER_DICT = {\n",
    "    'Geography': 'National',\n",
    "    'Group Name': 'Race/Ethnicity',\n",
    "    'Indicator Name': 'Vaccination and intent 4 level grouping',\n",
    "    'Time Period': 'October 9  –  October 15'\n",
    "}\n",
    "STATE_LIST = ['Alaska','Alabama','Arkansas','Arizona','California','Colorado','Connecticut','District of Columbia','Delaware','Florida','Georgia','Hawaii','Iowa','Idaho','Illinois','Indiana','Kansas','Kentucky','Louisiana','Massachusetts','Maryland','Maine','Michigan','Minnesota','Missouri','Mississippi','Montana','North Carolina','North Dakota','Nebraska','New Hampshire','New Jersey','New Mexico','Nevada','New York','Ohio','Oklahoma','Oregon','Pennsylvania','Rhode Island','South Carolina','South Dakota','Tennessee','Texas','Utah','Virginia','Vermont','Washington','Wisconsin','West Virginia','Wyoming']\n",
    "\n",
    "\n",
    "# data filtering\n",
    "def data_filter(_df, _filter_dict=DEFAULT_FILTER_DICT):\n",
    "    _mask = np.ones(_df.shape[0], dtype=bool)\n",
    "    for key in _filter_dict.keys():\n",
    "        if type(_filter_dict[key]) == list:\n",
    "            _mask = _mask & (_df[key].isin(_filter_dict[key]))\n",
    "        else:\n",
    "            _mask = _mask & (_df[key]==_filter_dict[key])\n",
    "    return _df[_mask]\n",
    "\n",
    "\n",
    "# data pivoting\n",
    "def data_pivot(_df, _col_select):\n",
    "    if len(_df) == 0: return None\n",
    "    FOUR_LEVEL_GROUP = ['Probably or Definitely Will Not Get Vaccinated',\\\n",
    "        'Probably Will Get Vaccinated or Are Unsure',\n",
    "        'Definitely Will Get Vaccinated',\n",
    "        'Vaccinated (≥1 dose)']\n",
    "    tmp = _df[_col_select].drop_duplicates().pivot(\n",
    "        index=_col_select[0],\n",
    "        columns=_col_select[1],\n",
    "        values=_col_select[2]\n",
    "    )\n",
    "    return tmp[FOUR_LEVEL_GROUP].sort_values('Vaccinated (≥1 dose)', ascending=False)\n",
    "\n",
    "\n",
    "# # Basic pivoted data ploting\n",
    "# def pivot_plot(_df):\n",
    "#     COLOR_CHOICE = ['crimson','tab:orange', 'lightseagreen','tab:blue']\n",
    "#     _df.plot.barh(\n",
    "#         stacked=True,\n",
    "#         color=COLOR_CHOICE\n",
    "#     )\n",
    "#     plt.legend(bbox_to_anchor=(1.0, 1.0))\n",
    "#     plt.show()"
   ]
  },
  {
   "cell_type": "markdown",
   "metadata": {},
   "source": [
    "### 2. Dataset Preparation"
   ]
  },
  {
   "cell_type": "code",
   "execution_count": null,
   "metadata": {},
   "outputs": [],
   "source": [
    "# Vega dataset - states\n",
    "states = alt.topo_feature(data.us_10m.url, 'states')\n",
    "\n",
    "filter_states = {\n",
    "    'Geography': STATE_LIST,\n",
    "    'Group Name': 'All adults 18+',\n",
    "    'Indicator Name': 'Vaccination and intent 4 level grouping',\n",
    "    'Indicator Category': 'Vaccinated (≥1 dose)',\n",
    "    'Time Period': 'August 28 – September 30'\n",
    "}\n",
    "\n",
    "df_states = data_filter(raw_df, filter_states).copy().sort_values(by=['Geography']).reset_index(drop=True)\n",
    "df_states.loc[:,'id'] = pd.read_csv(data.population_engineers_hurricanes.url)['id'][:-1]\n",
    "\n",
    "geo_col = ['Geography', 'id', 'Estimate (%)']\n",
    "df_states = df_states[geo_col]\n",
    "\n",
    "# # >>> Heat map dataset\n",
    "# df_states"
   ]
  },
  {
   "cell_type": "code",
   "execution_count": null,
   "metadata": {},
   "outputs": [],
   "source": [
    "# # Old Color Scheme\n",
    "# COLOR_DOMAIN = ['Probably or Definitely Will Not Get Vaccinated',\n",
    "#        'Probably Will Get Vaccinated or Are Unsure', 'Definitely Will Get Vaccinated', 'Vaccinated (≥1 dose)']\n",
    "# COLOR_RANGE = ['crimson', 'salmon', 'gold', 'steelblue']\n",
    "\n",
    "filter_bar_race = {\n",
    "    'Geography': STATE_LIST,\n",
    "    'Group Name': 'Race/Ethnicity',\n",
    "    'Indicator Name': 'Vaccination and intent 4 level grouping',\n",
    "    'Indicator Category': 'Vaccinated (≥1 dose)',\n",
    "    'Time Period': 'August 28 – September 30'\n",
    "}\n",
    "\n",
    "df_bar = data_filter(raw_df, filter_bar_race)[['Geography'] + COL_SELECT]\n",
    "df_bar = df_bar[~df_bar['Estimate (%)'].isnull()]\n",
    "\n",
    "# # >>> Bar plot dataset dataset\n",
    "# df_bar"
   ]
  },
  {
   "cell_type": "markdown",
   "metadata": {},
   "source": [
    "### 3. Altair Plot Definition"
   ]
  },
  {
   "cell_type": "code",
   "execution_count": null,
   "metadata": {},
   "outputs": [],
   "source": [
    "input_dropdown = alt.binding_select(options=STATE_LIST, name='State')\n",
    "selection = alt.selection_single(fields=['Geography'], bind=input_dropdown)\n",
    "\n",
    "# Grey US Map background\n",
    "background = alt.Chart(states).mark_geoshape(\n",
    "    fill='lightgray',\n",
    "    stroke='white'\n",
    ").properties(\n",
    "    width=550,\n",
    "    height=500\n",
    ").project('albersUsa')\n",
    "\n",
    "# Heap map - Vaccination Rate Estimates\n",
    "heat_map_alt = alt.Chart(df_states).mark_geoshape().encode(\n",
    "    shape='geo:G',\n",
    "    color='Estimate (%):Q',\n",
    "    tooltip=['Geography:N', 'Estimate (%):Q']\n",
    ").transform_lookup(\n",
    "    lookup='id',\n",
    "    from_=alt.LookupData(data=states, key='id'),\n",
    "    as_='geo'\n",
    ").properties(\n",
    "    width=550,\n",
    "    height=500\n",
    ").project(\n",
    "    type='albersUsa'\n",
    ").add_selection(\n",
    "    selection\n",
    ").transform_filter(\n",
    "    selection\n",
    ")\n",
    "\n",
    "# background + heat_map_alt"
   ]
  },
  {
   "cell_type": "code",
   "execution_count": null,
   "metadata": {},
   "outputs": [],
   "source": [
    "COLOR_DOMAIN = ['Vaccinated (≥1 dose)']\n",
    "COLOR_RANGE = ['lightseagreen']\n",
    "\n",
    "bar_plot_alt = alt.Chart(df_bar).mark_bar().encode(\n",
    "    x='mean(Estimate (%)):Q',\n",
    "    y='Group Category:N',\n",
    "    # color='Indicator Category:N',\n",
    "    color=alt.Color('Indicator Category:N', scale=alt.Scale(\n",
    "        domain=COLOR_DOMAIN,\n",
    "        range=COLOR_RANGE),\n",
    "        sort=alt.EncodingSortField('order', order='descending')),\n",
    "    tooltip=['Indicator Category:N', 'mean(Estimate (%)):Q']\n",
    ").properties(\n",
    "    width=300,\n",
    "    height=500\n",
    ").add_selection(\n",
    "    selection\n",
    ").transform_filter(\n",
    "    selection\n",
    ")\n",
    "\n",
    "# bar_plot_alt"
   ]
  },
  {
   "cell_type": "markdown",
   "metadata": {},
   "source": [
    "### 4. Dashboard"
   ]
  },
  {
   "cell_type": "code",
   "execution_count": null,
   "metadata": {},
   "outputs": [],
   "source": [
    "dashboard = background + heat_map_alt | bar_plot_alt\n",
    "dashboard"
   ]
  },
  {
   "cell_type": "markdown",
   "metadata": {},
   "source": [
    "### Write-up\n",
    "One paragraph explaining how to use the dashboard you created, to help someone who is not an expert understand your dataset.\n",
    "\n",
    "As shown above, this is the dashboard we built for the National Immunization Survey dataset. On the left side, we have the United States geographical heat map with Vaccination Rate Estimates of each state as values display in different colors. The color atla besides the heat map indicates that the higher Vaccination Rate Estimates value, the deeper the color. On the right side, we have a histogram using the Mean of Estimate as the horizontal axis and the Race/Ethnicity group categories. To use the dashboard, we can choose a state by clicking on the dropbox, and the chosen state will highlight on the map while the right plot display its Vaccination Rate Estimates value of different race/ethnicity group interactively."
   ]
  },
  {
   "cell_type": "markdown",
   "metadata": {},
   "source": [
    "### Contextual dataset 1"
   ]
  },
  {
   "cell_type": "markdown",
   "metadata": {},
   "source": [
    " Title: Provisional COVID-19 Deaths by Sex and Age"
   ]
  },
  {
   "cell_type": "markdown",
   "metadata": {},
   "source": [
    " Link: https://data.cdc.gov/NCHS/Provisional-COVID-19-Deaths-by-Sex-and-Age/9bhg-hcku"
   ]
  },
  {
   "cell_type": "markdown",
   "metadata": {},
   "source": [
    "This contextual dataset records the convid-19 deaths by sex, age, state, and date. In the part 1, our group decided to use the dataset of Vaccination Status and Intent by Demographics. Both of these two datasets is about the covid-19, but one includes immunization records and the other has death reports. Hence, our group thinks the contextual dataset would be helpful for our project. For instance, we can see identify the high-risk group based on the data of contextual datase, and see the relationship with the vaccination status."
   ]
  },
  {
   "cell_type": "markdown",
   "metadata": {},
   "source": [
    "### Contextual dataset 2"
   ]
  },
  {
   "cell_type": "markdown",
   "metadata": {},
   "source": [
    "Title: COVID-19 Vaccine Delivery\n",
    "Link: https://catalog.data.gov/dataset/covid-19-vaccine-delivery\n",
    "\n",
    "This dataset provides good, accurate and timely information on vaccine delivery, and the amount of vaccine available may have an impact on changes in vaccine uptake. We think this data set can be a good help to verify some conclusions - for example: whether the number of people vaccinated in a certain period is low because there is not enough vaccine in this local area."
   ]
  }
 ],
 "metadata": {
  "kernelspec": {
   "display_name": "Python 3 (ipykernel)",
   "language": "python",
   "name": "python3"
  },
  "language_info": {
   "codemirror_mode": {
    "name": "ipython",
    "version": 3
   },
   "file_extension": ".py",
   "mimetype": "text/x-python",
   "name": "python",
   "nbconvert_exporter": "python",
   "pygments_lexer": "ipython3",
   "version": "3.9.12"
  },
  "vscode": {
   "interpreter": {
    "hash": "1602a90bb8e052cfd8fa4aa83f5e69125f95ad8187c3f2a46ed8fad2462c4055"
   }
  }
 },
 "nbformat": 4,
 "nbformat_minor": 2
}
