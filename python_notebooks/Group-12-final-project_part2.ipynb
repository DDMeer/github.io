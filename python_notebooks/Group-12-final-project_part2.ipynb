{
 "cells": [
  {
   "cell_type": "markdown",
   "metadata": {},
   "source": [
    "# IS537 Final Project Part 2\n",
    "##### Group 12 - Andrew Mo, Qitian He, Yingjie Zhao, Zicheng Li"
   ]
  },
  {
   "cell_type": "markdown",
   "metadata": {},
   "source": [
    "### 0. Load in Data"
   ]
  },
  {
   "cell_type": "code",
   "execution_count": 1,
   "metadata": {},
   "outputs": [],
   "source": [
    "import numpy as np\n",
    "import pandas as pd\n",
    "import matplotlib.pyplot as plt\n",
    "import altair as alt\n",
    "from vega_datasets import data\n",
    "# import ipywidgets"
   ]
  },
  {
   "cell_type": "code",
   "execution_count": 2,
   "metadata": {},
   "outputs": [],
   "source": [
    "data_path = 'National_Immunization_Survey_Adult_COVID_Module__NIS-ACM___Vaccination_Status_and_Intent_by_Demographics.csv'\n",
    "\n",
    "raw_df = pd.read_csv(data_path)\n",
    "\n",
    "raw_df['Time Interval'] = raw_df['Time Period'] + ', ' + raw_df['Year'].astype(str)"
   ]
  },
  {
   "cell_type": "markdown",
   "metadata": {},
   "source": [
    "### 1. Functions Definition"
   ]
  },
  {
   "cell_type": "code",
   "execution_count": 3,
   "metadata": {},
   "outputs": [],
   "source": [
    "# Constants\n",
    "COL_SELECT = ['Group Category','Indicator Category','Estimate (%)']\n",
    "DEFAULT_FILTER_DICT = {\n",
    "    'Geography': 'National',\n",
    "    'Group Name': 'Race/Ethnicity',\n",
    "    'Indicator Name': 'Vaccination and intent 4 level grouping',\n",
    "    'Time Period': 'October 9  –  October 15'\n",
    "}\n",
    "STATE_LIST = ['Alaska','Alabama','Arkansas','Arizona','California','Colorado','Connecticut','District of Columbia','Delaware','Florida','Georgia','Hawaii','Iowa','Idaho','Illinois','Indiana','Kansas','Kentucky','Louisiana','Massachusetts','Maryland','Maine','Michigan','Minnesota','Missouri','Mississippi','Montana','North Carolina','North Dakota','Nebraska','New Hampshire','New Jersey','New Mexico','Nevada','New York','Ohio','Oklahoma','Oregon','Pennsylvania','Rhode Island','South Carolina','South Dakota','Tennessee','Texas','Utah','Virginia','Vermont','Washington','Wisconsin','West Virginia','Wyoming']\n",
    "\n",
    "\n",
    "# data filtering\n",
    "def data_filter(_df, _filter_dict=DEFAULT_FILTER_DICT):\n",
    "    _mask = np.ones(_df.shape[0], dtype=bool)\n",
    "    for key in _filter_dict.keys():\n",
    "        if type(_filter_dict[key]) == list:\n",
    "            _mask = _mask & (_df[key].isin(_filter_dict[key]))\n",
    "        else:\n",
    "            _mask = _mask & (_df[key]==_filter_dict[key])\n",
    "    return _df[_mask]\n",
    "\n",
    "\n",
    "# data pivoting\n",
    "def data_pivot(_df, _col_select):\n",
    "    if len(_df) == 0: return None\n",
    "    FOUR_LEVEL_GROUP = ['Probably or Definitely Will Not Get Vaccinated',\\\n",
    "        'Probably Will Get Vaccinated or Are Unsure',\n",
    "        'Definitely Will Get Vaccinated',\n",
    "        'Vaccinated (≥1 dose)']\n",
    "    tmp = _df[_col_select].drop_duplicates().pivot(\n",
    "        index=_col_select[0],\n",
    "        columns=_col_select[1],\n",
    "        values=_col_select[2]\n",
    "    )\n",
    "    return tmp[FOUR_LEVEL_GROUP].sort_values('Vaccinated (≥1 dose)', ascending=False)\n",
    "\n",
    "\n",
    "# # Basic pivoted data ploting\n",
    "# def pivot_plot(_df):\n",
    "#     COLOR_CHOICE = ['crimson','tab:orange', 'lightseagreen','tab:blue']\n",
    "#     _df.plot.barh(\n",
    "#         stacked=True,\n",
    "#         color=COLOR_CHOICE\n",
    "#     )\n",
    "#     plt.legend(bbox_to_anchor=(1.0, 1.0))\n",
    "#     plt.show()"
   ]
  },
  {
   "cell_type": "markdown",
   "metadata": {},
   "source": [
    "### 2. Dataset Preparation"
   ]
  },
  {
   "cell_type": "code",
   "execution_count": 4,
   "metadata": {},
   "outputs": [],
   "source": [
    "# Vega dataset - states\n",
    "states = alt.topo_feature(data.us_10m.url, 'states')\n",
    "\n",
    "filter_states = {\n",
    "    'Geography': STATE_LIST,\n",
    "    'Group Name': 'All adults 18+',\n",
    "    'Indicator Name': 'Vaccination and intent 4 level grouping',\n",
    "    'Indicator Category': 'Vaccinated (≥1 dose)',\n",
    "    'Time Period': 'August 28 – September 30'\n",
    "}\n",
    "\n",
    "df_states = data_filter(raw_df, filter_states).copy().sort_values(by=['Geography']).reset_index(drop=True)\n",
    "df_states.loc[:,'id'] = pd.read_csv(data.population_engineers_hurricanes.url)['id'][:-1]\n",
    "\n",
    "geo_col = ['Geography', 'id', 'Estimate (%)']\n",
    "df_states = df_states[geo_col]\n",
    "\n",
    "# # >>> Heat map dataset\n",
    "# df_states"
   ]
  },
  {
   "cell_type": "code",
   "execution_count": 5,
   "metadata": {},
   "outputs": [],
   "source": [
    "# # Old Color Scheme\n",
    "# COLOR_DOMAIN = ['Probably or Definitely Will Not Get Vaccinated',\n",
    "#        'Probably Will Get Vaccinated or Are Unsure', 'Definitely Will Get Vaccinated', 'Vaccinated (≥1 dose)']\n",
    "# COLOR_RANGE = ['crimson', 'salmon', 'gold', 'steelblue']\n",
    "\n",
    "filter_bar_race = {\n",
    "    'Geography': STATE_LIST,\n",
    "    'Group Name': 'Race/Ethnicity',\n",
    "    'Indicator Name': 'Vaccination and intent 4 level grouping',\n",
    "    'Indicator Category': 'Vaccinated (≥1 dose)',\n",
    "    'Time Period': 'August 28 – September 30'\n",
    "}\n",
    "\n",
    "df_bar = data_filter(raw_df, filter_bar_race)[['Geography'] + COL_SELECT]\n",
    "df_bar = df_bar[~df_bar['Estimate (%)'].isnull()]\n",
    "\n",
    "# # >>> Bar plot dataset dataset\n",
    "# df_bar"
   ]
  },
  {
   "cell_type": "markdown",
   "metadata": {},
   "source": [
    "### 3. Altair Plot Definition"
   ]
  },
  {
   "cell_type": "code",
   "execution_count": 6,
   "metadata": {},
   "outputs": [],
   "source": [
    "input_dropdown = alt.binding_select(options=STATE_LIST, name='State')\n",
    "selection = alt.selection_single(fields=['Geography'], bind=input_dropdown)\n",
    "\n",
    "# Grey US Map background\n",
    "background = alt.Chart(states).mark_geoshape(\n",
    "    fill='lightgray',\n",
    "    stroke='white'\n",
    ").properties(\n",
    "    width=550,\n",
    "    height=500\n",
    ").project('albersUsa')\n",
    "\n",
    "# Heap map - Vaccination Rate Estimates\n",
    "heat_map_alt = alt.Chart(df_states).mark_geoshape().encode(\n",
    "    shape='geo:G',\n",
    "    color='Estimate (%):Q',\n",
    "    tooltip=['Geography:N', 'Estimate (%):Q']\n",
    ").transform_lookup(\n",
    "    lookup='id',\n",
    "    from_=alt.LookupData(data=states, key='id'),\n",
    "    as_='geo'\n",
    ").properties(\n",
    "    width=550,\n",
    "    height=500\n",
    ").project(\n",
    "    type='albersUsa'\n",
    ").add_selection(\n",
    "    selection\n",
    ").transform_filter(\n",
    "    selection\n",
    ")\n",
    "\n",
    "# background + heat_map_alt"
   ]
  },
  {
   "cell_type": "code",
   "execution_count": 7,
   "metadata": {},
   "outputs": [],
   "source": [
    "COLOR_DOMAIN = ['Vaccinated (≥1 dose)']\n",
    "COLOR_RANGE = ['lightseagreen']\n",
    "\n",
    "bar_plot_alt = alt.Chart(df_bar).mark_bar().encode(\n",
    "    x='mean(Estimate (%)):Q',\n",
    "    y='Group Category:N',\n",
    "    # color='Indicator Category:N',\n",
    "    color=alt.Color('Indicator Category:N', scale=alt.Scale(\n",
    "        domain=COLOR_DOMAIN,\n",
    "        range=COLOR_RANGE),\n",
    "        sort=alt.EncodingSortField('order', order='descending')),\n",
    "    tooltip=['Indicator Category:N', 'mean(Estimate (%)):Q']\n",
    ").properties(\n",
    "    width=300,\n",
    "    height=500\n",
    ").add_selection(\n",
    "    selection\n",
    ").transform_filter(\n",
    "    selection\n",
    ")\n",
    "\n",
    "# bar_plot_alt"
   ]
  },
  {
   "cell_type": "markdown",
   "metadata": {},
   "source": [
    "### 4. Dashboard"
   ]
  },
  {
   "cell_type": "code",
   "execution_count": 8,
   "metadata": {},
   "outputs": [
    {
     "data": {
      "text/html": [
       "\n",
       "<div id=\"altair-viz-76a988a5aa304be7a2c5f0348050c47a\"></div>\n",
       "<script type=\"text/javascript\">\n",
       "  var VEGA_DEBUG = (typeof VEGA_DEBUG == \"undefined\") ? {} : VEGA_DEBUG;\n",
       "  (function(spec, embedOpt){\n",
       "    let outputDiv = document.currentScript.previousElementSibling;\n",
       "    if (outputDiv.id !== \"altair-viz-76a988a5aa304be7a2c5f0348050c47a\") {\n",
       "      outputDiv = document.getElementById(\"altair-viz-76a988a5aa304be7a2c5f0348050c47a\");\n",
       "    }\n",
       "    const paths = {\n",
       "      \"vega\": \"https://cdn.jsdelivr.net/npm//vega@5?noext\",\n",
       "      \"vega-lib\": \"https://cdn.jsdelivr.net/npm//vega-lib?noext\",\n",
       "      \"vega-lite\": \"https://cdn.jsdelivr.net/npm//vega-lite@4.17.0?noext\",\n",
       "      \"vega-embed\": \"https://cdn.jsdelivr.net/npm//vega-embed@6?noext\",\n",
       "    };\n",
       "\n",
       "    function maybeLoadScript(lib, version) {\n",
       "      var key = `${lib.replace(\"-\", \"\")}_version`;\n",
       "      return (VEGA_DEBUG[key] == version) ?\n",
       "        Promise.resolve(paths[lib]) :\n",
       "        new Promise(function(resolve, reject) {\n",
       "          var s = document.createElement('script');\n",
       "          document.getElementsByTagName(\"head\")[0].appendChild(s);\n",
       "          s.async = true;\n",
       "          s.onload = () => {\n",
       "            VEGA_DEBUG[key] = version;\n",
       "            return resolve(paths[lib]);\n",
       "          };\n",
       "          s.onerror = () => reject(`Error loading script: ${paths[lib]}`);\n",
       "          s.src = paths[lib];\n",
       "        });\n",
       "    }\n",
       "\n",
       "    function showError(err) {\n",
       "      outputDiv.innerHTML = `<div class=\"error\" style=\"color:red;\">${err}</div>`;\n",
       "      throw err;\n",
       "    }\n",
       "\n",
       "    function displayChart(vegaEmbed) {\n",
       "      vegaEmbed(outputDiv, spec, embedOpt)\n",
       "        .catch(err => showError(`Javascript Error: ${err.message}<br>This usually means there's a typo in your chart specification. See the javascript console for the full traceback.`));\n",
       "    }\n",
       "\n",
       "    if(typeof define === \"function\" && define.amd) {\n",
       "      requirejs.config({paths});\n",
       "      require([\"vega-embed\"], displayChart, err => showError(`Error loading script: ${err.message}`));\n",
       "    } else {\n",
       "      maybeLoadScript(\"vega\", \"5\")\n",
       "        .then(() => maybeLoadScript(\"vega-lite\", \"4.17.0\"))\n",
       "        .then(() => maybeLoadScript(\"vega-embed\", \"6\"))\n",
       "        .catch(showError)\n",
       "        .then(() => displayChart(vegaEmbed));\n",
       "    }\n",
       "  })({\"config\": {\"view\": {\"continuousWidth\": 400, \"continuousHeight\": 300}}, \"hconcat\": [{\"layer\": [{\"data\": {\"url\": \"https://cdn.jsdelivr.net/npm/vega-datasets@v1.29.0/data/us-10m.json\", \"format\": {\"feature\": \"states\", \"type\": \"topojson\"}}, \"mark\": {\"type\": \"geoshape\", \"fill\": \"lightgray\", \"stroke\": \"white\"}, \"height\": 500, \"projection\": {\"type\": \"albersUsa\"}, \"width\": 550}, {\"data\": {\"name\": \"data-1f55b297885be9188d376538f2409481\"}, \"mark\": \"geoshape\", \"encoding\": {\"color\": {\"field\": \"Estimate (%)\", \"type\": \"quantitative\"}, \"shape\": {\"field\": \"geo\", \"type\": \"geojson\"}, \"tooltip\": [{\"field\": \"Geography\", \"type\": \"nominal\"}, {\"field\": \"Estimate (%)\", \"type\": \"quantitative\"}]}, \"height\": 500, \"projection\": {\"type\": \"albersUsa\"}, \"selection\": {\"selector001\": {\"type\": \"single\", \"fields\": [\"Geography\"], \"bind\": {\"input\": \"select\", \"options\": [\"Alaska\", \"Alabama\", \"Arkansas\", \"Arizona\", \"California\", \"Colorado\", \"Connecticut\", \"District of Columbia\", \"Delaware\", \"Florida\", \"Georgia\", \"Hawaii\", \"Iowa\", \"Idaho\", \"Illinois\", \"Indiana\", \"Kansas\", \"Kentucky\", \"Louisiana\", \"Massachusetts\", \"Maryland\", \"Maine\", \"Michigan\", \"Minnesota\", \"Missouri\", \"Mississippi\", \"Montana\", \"North Carolina\", \"North Dakota\", \"Nebraska\", \"New Hampshire\", \"New Jersey\", \"New Mexico\", \"Nevada\", \"New York\", \"Ohio\", \"Oklahoma\", \"Oregon\", \"Pennsylvania\", \"Rhode Island\", \"South Carolina\", \"South Dakota\", \"Tennessee\", \"Texas\", \"Utah\", \"Virginia\", \"Vermont\", \"Washington\", \"Wisconsin\", \"West Virginia\", \"Wyoming\"], \"name\": \"State\"}}}, \"transform\": [{\"lookup\": \"id\", \"as\": \"geo\", \"from\": {\"data\": {\"url\": \"https://cdn.jsdelivr.net/npm/vega-datasets@v1.29.0/data/us-10m.json\", \"format\": {\"feature\": \"states\", \"type\": \"topojson\"}}, \"key\": \"id\"}}, {\"filter\": {\"selection\": \"selector001\"}}], \"width\": 550}]}, {\"data\": {\"name\": \"data-f4e444d17e10d6d4ca2e095f24515d6a\"}, \"mark\": \"bar\", \"encoding\": {\"color\": {\"field\": \"Indicator Category\", \"scale\": {\"domain\": [\"Vaccinated (\\u22651 dose)\"], \"range\": [\"lightseagreen\"]}, \"sort\": {\"field\": \"order\", \"order\": \"descending\"}, \"type\": \"nominal\"}, \"tooltip\": [{\"field\": \"Indicator Category\", \"type\": \"nominal\"}, {\"aggregate\": \"mean\", \"field\": \"Estimate (%)\", \"type\": \"quantitative\"}], \"x\": {\"aggregate\": \"mean\", \"field\": \"Estimate (%)\", \"type\": \"quantitative\"}, \"y\": {\"field\": \"Group Category\", \"type\": \"nominal\"}}, \"height\": 500, \"selection\": {\"selector001\": {\"type\": \"single\", \"fields\": [\"Geography\"], \"bind\": {\"input\": \"select\", \"options\": [\"Alaska\", \"Alabama\", \"Arkansas\", \"Arizona\", \"California\", \"Colorado\", \"Connecticut\", \"District of Columbia\", \"Delaware\", \"Florida\", \"Georgia\", \"Hawaii\", \"Iowa\", \"Idaho\", \"Illinois\", \"Indiana\", \"Kansas\", \"Kentucky\", \"Louisiana\", \"Massachusetts\", \"Maryland\", \"Maine\", \"Michigan\", \"Minnesota\", \"Missouri\", \"Mississippi\", \"Montana\", \"North Carolina\", \"North Dakota\", \"Nebraska\", \"New Hampshire\", \"New Jersey\", \"New Mexico\", \"Nevada\", \"New York\", \"Ohio\", \"Oklahoma\", \"Oregon\", \"Pennsylvania\", \"Rhode Island\", \"South Carolina\", \"South Dakota\", \"Tennessee\", \"Texas\", \"Utah\", \"Virginia\", \"Vermont\", \"Washington\", \"Wisconsin\", \"West Virginia\", \"Wyoming\"], \"name\": \"State\"}}}, \"transform\": [{\"filter\": {\"selection\": \"selector001\"}}], \"width\": 300}], \"$schema\": \"https://vega.github.io/schema/vega-lite/v4.17.0.json\", \"datasets\": {\"data-1f55b297885be9188d376538f2409481\": [{\"Geography\": \"Alabama\", \"id\": 1, \"Estimate (%)\": 80.9}, {\"Geography\": \"Alaska\", \"id\": 2, \"Estimate (%)\": 80.9}, {\"Geography\": \"Arizona\", \"id\": 4, \"Estimate (%)\": 83.7}, {\"Geography\": \"Arkansas\", \"id\": 5, \"Estimate (%)\": 77.2}, {\"Geography\": \"California\", \"id\": 6, \"Estimate (%)\": 94.0}, {\"Geography\": \"Colorado\", \"id\": 8, \"Estimate (%)\": 90.0}, {\"Geography\": \"Connecticut\", \"id\": 9, \"Estimate (%)\": 99.3}, {\"Geography\": \"Delaware\", \"id\": 10, \"Estimate (%)\": 91.3}, {\"Geography\": \"District of Columbia\", \"id\": 11, \"Estimate (%)\": 96.9}, {\"Geography\": \"Florida\", \"id\": 12, \"Estimate (%)\": 86.6}, {\"Geography\": \"Georgia\", \"id\": 13, \"Estimate (%)\": 81.4}, {\"Geography\": \"Hawaii\", \"id\": 15, \"Estimate (%)\": 93.0}, {\"Geography\": \"Idaho\", \"id\": 16, \"Estimate (%)\": 79.2}, {\"Geography\": \"Illinois\", \"id\": 17, \"Estimate (%)\": 85.1}, {\"Geography\": \"Indiana\", \"id\": 18, \"Estimate (%)\": 74.5}, {\"Geography\": \"Iowa\", \"id\": 19, \"Estimate (%)\": 79.4}, {\"Geography\": \"Kansas\", \"id\": 20, \"Estimate (%)\": 78.5}, {\"Geography\": \"Kentucky\", \"id\": 21, \"Estimate (%)\": 77.3}, {\"Geography\": \"Louisiana\", \"id\": 22, \"Estimate (%)\": 78.6}, {\"Geography\": \"Maine\", \"id\": 23, \"Estimate (%)\": 97.5}, {\"Geography\": \"Maryland\", \"id\": 24, \"Estimate (%)\": 94.4}, {\"Geography\": \"Massachusetts\", \"id\": 25, \"Estimate (%)\": 98.7}, {\"Geography\": \"Michigan\", \"id\": 26, \"Estimate (%)\": 79.6}, {\"Geography\": \"Minnesota\", \"id\": 27, \"Estimate (%)\": 82.2}, {\"Geography\": \"Mississippi\", \"id\": 28, \"Estimate (%)\": 79.5}, {\"Geography\": \"Missouri\", \"id\": 29, \"Estimate (%)\": 80.5}, {\"Geography\": \"Montana\", \"id\": 30, \"Estimate (%)\": 73.9}, {\"Geography\": \"Nebraska\", \"id\": 31, \"Estimate (%)\": 80.9}, {\"Geography\": \"Nevada\", \"id\": 32, \"Estimate (%)\": 84.0}, {\"Geography\": \"New Hampshire\", \"id\": 33, \"Estimate (%)\": 96.7}, {\"Geography\": \"New Jersey\", \"id\": 34, \"Estimate (%)\": 97.3}, {\"Geography\": \"New Mexico\", \"id\": 35, \"Estimate (%)\": 87.6}, {\"Geography\": \"New York\", \"id\": 36, \"Estimate (%)\": 97.7}, {\"Geography\": \"North Carolina\", \"id\": 37, \"Estimate (%)\": 85.9}, {\"Geography\": \"North Dakota\", \"id\": 38, \"Estimate (%)\": 75.5}, {\"Geography\": \"Ohio\", \"id\": 39, \"Estimate (%)\": 76.0}, {\"Geography\": \"Oklahoma\", \"id\": 40, \"Estimate (%)\": 74.1}, {\"Geography\": \"Oregon\", \"id\": 41, \"Estimate (%)\": 89.1}, {\"Geography\": \"Pennsylvania\", \"id\": 42, \"Estimate (%)\": 91.4}, {\"Geography\": \"Rhode Island\", \"id\": 44, \"Estimate (%)\": 97.4}, {\"Geography\": \"South Carolina\", \"id\": 45, \"Estimate (%)\": 78.3}, {\"Geography\": \"South Dakota\", \"id\": 46, \"Estimate (%)\": 80.2}, {\"Geography\": \"Tennessee\", \"id\": 47, \"Estimate (%)\": 81.6}, {\"Geography\": \"Texas\", \"id\": 48, \"Estimate (%)\": 83.4}, {\"Geography\": \"Utah\", \"id\": 49, \"Estimate (%)\": 89.4}, {\"Geography\": \"Vermont\", \"id\": 50, \"Estimate (%)\": 97.8}, {\"Geography\": \"Virginia\", \"id\": 51, \"Estimate (%)\": 94.8}, {\"Geography\": \"Washington\", \"id\": 53, \"Estimate (%)\": 89.6}, {\"Geography\": \"West Virginia\", \"id\": 54, \"Estimate (%)\": 87.1}, {\"Geography\": \"Wisconsin\", \"id\": 55, \"Estimate (%)\": 77.1}, {\"Geography\": \"Wyoming\", \"id\": 56, \"Estimate (%)\": 67.8}], \"data-f4e444d17e10d6d4ca2e095f24515d6a\": [{\"Geography\": \"Connecticut\", \"Group Category\": \"Hispanic/Latino\", \"Indicator Category\": \"Vaccinated (\\u22651 dose)\", \"Estimate (%)\": 99.9}, {\"Geography\": \"Connecticut\", \"Group Category\": \"White, non-Hispanic\", \"Indicator Category\": \"Vaccinated (\\u22651 dose)\", \"Estimate (%)\": 99.1}, {\"Geography\": \"District of Columbia\", \"Group Category\": \"Black, non-Hispanic\", \"Indicator Category\": \"Vaccinated (\\u22651 dose)\", \"Estimate (%)\": 94.3}, {\"Geography\": \"District of Columbia\", \"Group Category\": \"Hispanic/Latino\", \"Indicator Category\": \"Vaccinated (\\u22651 dose)\", \"Estimate (%)\": 98.8}, {\"Geography\": \"District of Columbia\", \"Group Category\": \"White, non-Hispanic\", \"Indicator Category\": \"Vaccinated (\\u22651 dose)\", \"Estimate (%)\": 99.9}, {\"Geography\": \"District of Columbia\", \"Group Category\": \"Asian, non-Hispanic\", \"Indicator Category\": \"Vaccinated (\\u22651 dose)\", \"Estimate (%)\": 99.8}, {\"Geography\": \"Delaware\", \"Group Category\": \"Black, non-Hispanic\", \"Indicator Category\": \"Vaccinated (\\u22651 dose)\", \"Estimate (%)\": 89.6}, {\"Geography\": \"Delaware\", \"Group Category\": \"Hispanic/Latino\", \"Indicator Category\": \"Vaccinated (\\u22651 dose)\", \"Estimate (%)\": 88.1}, {\"Geography\": \"Delaware\", \"Group Category\": \"White, non-Hispanic\", \"Indicator Category\": \"Vaccinated (\\u22651 dose)\", \"Estimate (%)\": 93.1}, {\"Geography\": \"Maryland\", \"Group Category\": \"Black, non-Hispanic\", \"Indicator Category\": \"Vaccinated (\\u22651 dose)\", \"Estimate (%)\": 94.7}, {\"Geography\": \"Maryland\", \"Group Category\": \"Hispanic/Latino\", \"Indicator Category\": \"Vaccinated (\\u22651 dose)\", \"Estimate (%)\": 97.1}, {\"Geography\": \"Maryland\", \"Group Category\": \"Multi\", \"Indicator Category\": \"Vaccinated (\\u22651 dose)\", \"Estimate (%)\": 89.2}, {\"Geography\": \"Maryland\", \"Group Category\": \"White, non-Hispanic\", \"Indicator Category\": \"Vaccinated (\\u22651 dose)\", \"Estimate (%)\": 93.9}, {\"Geography\": \"Virginia\", \"Group Category\": \"Black, non-Hispanic\", \"Indicator Category\": \"Vaccinated (\\u22651 dose)\", \"Estimate (%)\": 90.7}, {\"Geography\": \"Virginia\", \"Group Category\": \"Hispanic/Latino\", \"Indicator Category\": \"Vaccinated (\\u22651 dose)\", \"Estimate (%)\": 94.7}, {\"Geography\": \"Virginia\", \"Group Category\": \"Multi\", \"Indicator Category\": \"Vaccinated (\\u22651 dose)\", \"Estimate (%)\": 92.1}, {\"Geography\": \"Virginia\", \"Group Category\": \"White, non-Hispanic\", \"Indicator Category\": \"Vaccinated (\\u22651 dose)\", \"Estimate (%)\": 95.7}, {\"Geography\": \"Virginia\", \"Group Category\": \"Asian, non-Hispanic\", \"Indicator Category\": \"Vaccinated (\\u22651 dose)\", \"Estimate (%)\": 98.9}, {\"Geography\": \"West Virginia\", \"Group Category\": \"Black, non-Hispanic\", \"Indicator Category\": \"Vaccinated (\\u22651 dose)\", \"Estimate (%)\": 93.8}, {\"Geography\": \"West Virginia\", \"Group Category\": \"Multi\", \"Indicator Category\": \"Vaccinated (\\u22651 dose)\", \"Estimate (%)\": 81.9}, {\"Geography\": \"West Virginia\", \"Group Category\": \"White, non-Hispanic\", \"Indicator Category\": \"Vaccinated (\\u22651 dose)\", \"Estimate (%)\": 86.9}, {\"Geography\": \"Alabama\", \"Group Category\": \"Black, non-Hispanic\", \"Indicator Category\": \"Vaccinated (\\u22651 dose)\", \"Estimate (%)\": 90.6}, {\"Geography\": \"Alabama\", \"Group Category\": \"Hispanic/Latino\", \"Indicator Category\": \"Vaccinated (\\u22651 dose)\", \"Estimate (%)\": 76.6}, {\"Geography\": \"Alabama\", \"Group Category\": \"Multi\", \"Indicator Category\": \"Vaccinated (\\u22651 dose)\", \"Estimate (%)\": 81.4}, {\"Geography\": \"Alabama\", \"Group Category\": \"White, non-Hispanic\", \"Indicator Category\": \"Vaccinated (\\u22651 dose)\", \"Estimate (%)\": 77.6}, {\"Geography\": \"Florida\", \"Group Category\": \"Black, non-Hispanic\", \"Indicator Category\": \"Vaccinated (\\u22651 dose)\", \"Estimate (%)\": 87.6}, {\"Geography\": \"Florida\", \"Group Category\": \"Hispanic/Latino\", \"Indicator Category\": \"Vaccinated (\\u22651 dose)\", \"Estimate (%)\": 83.0}, {\"Geography\": \"Florida\", \"Group Category\": \"White, non-Hispanic\", \"Indicator Category\": \"Vaccinated (\\u22651 dose)\", \"Estimate (%)\": 87.8}, {\"Geography\": \"Georgia\", \"Group Category\": \"Black, non-Hispanic\", \"Indicator Category\": \"Vaccinated (\\u22651 dose)\", \"Estimate (%)\": 87.4}, {\"Geography\": \"Georgia\", \"Group Category\": \"Hispanic/Latino\", \"Indicator Category\": \"Vaccinated (\\u22651 dose)\", \"Estimate (%)\": 81.0}, {\"Geography\": \"Georgia\", \"Group Category\": \"Multi\", \"Indicator Category\": \"Vaccinated (\\u22651 dose)\", \"Estimate (%)\": 57.5}, {\"Geography\": \"Georgia\", \"Group Category\": \"White, non-Hispanic\", \"Indicator Category\": \"Vaccinated (\\u22651 dose)\", \"Estimate (%)\": 78.7}, {\"Geography\": \"Georgia\", \"Group Category\": \"Asian, non-Hispanic\", \"Indicator Category\": \"Vaccinated (\\u22651 dose)\", \"Estimate (%)\": 96.6}, {\"Geography\": \"Massachusetts\", \"Group Category\": \"Black, non-Hispanic\", \"Indicator Category\": \"Vaccinated (\\u22651 dose)\", \"Estimate (%)\": 100.0}, {\"Geography\": \"Massachusetts\", \"Group Category\": \"Hispanic/Latino\", \"Indicator Category\": \"Vaccinated (\\u22651 dose)\", \"Estimate (%)\": 96.8}, {\"Geography\": \"Massachusetts\", \"Group Category\": \"White, non-Hispanic\", \"Indicator Category\": \"Vaccinated (\\u22651 dose)\", \"Estimate (%)\": 99.0}, {\"Geography\": \"Massachusetts\", \"Group Category\": \"Asian, non-Hispanic\", \"Indicator Category\": \"Vaccinated (\\u22651 dose)\", \"Estimate (%)\": 99.8}, {\"Geography\": \"Kentucky\", \"Group Category\": \"Black, non-Hispanic\", \"Indicator Category\": \"Vaccinated (\\u22651 dose)\", \"Estimate (%)\": 73.1}, {\"Geography\": \"Kentucky\", \"Group Category\": \"Hispanic/Latino\", \"Indicator Category\": \"Vaccinated (\\u22651 dose)\", \"Estimate (%)\": 75.2}, {\"Geography\": \"Kentucky\", \"Group Category\": \"Multi\", \"Indicator Category\": \"Vaccinated (\\u22651 dose)\", \"Estimate (%)\": 76.4}, {\"Geography\": \"Kentucky\", \"Group Category\": \"White, non-Hispanic\", \"Indicator Category\": \"Vaccinated (\\u22651 dose)\", \"Estimate (%)\": 78.3}, {\"Geography\": \"Mississippi\", \"Group Category\": \"Black, non-Hispanic\", \"Indicator Category\": \"Vaccinated (\\u22651 dose)\", \"Estimate (%)\": 88.2}, {\"Geography\": \"Mississippi\", \"Group Category\": \"White, non-Hispanic\", \"Indicator Category\": \"Vaccinated (\\u22651 dose)\", \"Estimate (%)\": 76.7}, {\"Geography\": \"North Carolina\", \"Group Category\": \"Black, non-Hispanic\", \"Indicator Category\": \"Vaccinated (\\u22651 dose)\", \"Estimate (%)\": 92.0}, {\"Geography\": \"North Carolina\", \"Group Category\": \"Hispanic/Latino\", \"Indicator Category\": \"Vaccinated (\\u22651 dose)\", \"Estimate (%)\": 83.4}, {\"Geography\": \"North Carolina\", \"Group Category\": \"Multi\", \"Indicator Category\": \"Vaccinated (\\u22651 dose)\", \"Estimate (%)\": 62.4}, {\"Geography\": \"North Carolina\", \"Group Category\": \"White, non-Hispanic\", \"Indicator Category\": \"Vaccinated (\\u22651 dose)\", \"Estimate (%)\": 85.4}, {\"Geography\": \"South Carolina\", \"Group Category\": \"Black, non-Hispanic\", \"Indicator Category\": \"Vaccinated (\\u22651 dose)\", \"Estimate (%)\": 80.7}, {\"Geography\": \"South Carolina\", \"Group Category\": \"Hispanic/Latino\", \"Indicator Category\": \"Vaccinated (\\u22651 dose)\", \"Estimate (%)\": 65.8}, {\"Geography\": \"South Carolina\", \"Group Category\": \"Multi\", \"Indicator Category\": \"Vaccinated (\\u22651 dose)\", \"Estimate (%)\": 57.6}, {\"Geography\": \"South Carolina\", \"Group Category\": \"White, non-Hispanic\", \"Indicator Category\": \"Vaccinated (\\u22651 dose)\", \"Estimate (%)\": 79.1}, {\"Geography\": \"Tennessee\", \"Group Category\": \"Black, non-Hispanic\", \"Indicator Category\": \"Vaccinated (\\u22651 dose)\", \"Estimate (%)\": 91.6}, {\"Geography\": \"Tennessee\", \"Group Category\": \"White, non-Hispanic\", \"Indicator Category\": \"Vaccinated (\\u22651 dose)\", \"Estimate (%)\": 80.0}, {\"Geography\": \"Indiana\", \"Group Category\": \"Black, non-Hispanic\", \"Indicator Category\": \"Vaccinated (\\u22651 dose)\", \"Estimate (%)\": 78.8}, {\"Geography\": \"Indiana\", \"Group Category\": \"Hispanic/Latino\", \"Indicator Category\": \"Vaccinated (\\u22651 dose)\", \"Estimate (%)\": 65.8}, {\"Geography\": \"Indiana\", \"Group Category\": \"Multi\", \"Indicator Category\": \"Vaccinated (\\u22651 dose)\", \"Estimate (%)\": 84.3}, {\"Geography\": \"Indiana\", \"Group Category\": \"White, non-Hispanic\", \"Indicator Category\": \"Vaccinated (\\u22651 dose)\", \"Estimate (%)\": 74.9}, {\"Geography\": \"Michigan\", \"Group Category\": \"Black, non-Hispanic\", \"Indicator Category\": \"Vaccinated (\\u22651 dose)\", \"Estimate (%)\": 67.7}, {\"Geography\": \"Michigan\", \"Group Category\": \"White, non-Hispanic\", \"Indicator Category\": \"Vaccinated (\\u22651 dose)\", \"Estimate (%)\": 82.0}, {\"Geography\": \"Minnesota\", \"Group Category\": \"Black, non-Hispanic\", \"Indicator Category\": \"Vaccinated (\\u22651 dose)\", \"Estimate (%)\": 82.4}, {\"Geography\": \"Minnesota\", \"Group Category\": \"Hispanic/Latino\", \"Indicator Category\": \"Vaccinated (\\u22651 dose)\", \"Estimate (%)\": 73.3}, {\"Geography\": \"Minnesota\", \"Group Category\": \"White, non-Hispanic\", \"Indicator Category\": \"Vaccinated (\\u22651 dose)\", \"Estimate (%)\": 83.8}, {\"Geography\": \"Minnesota\", \"Group Category\": \"Asian, non-Hispanic\", \"Indicator Category\": \"Vaccinated (\\u22651 dose)\", \"Estimate (%)\": 91.8}, {\"Geography\": \"Maine\", \"Group Category\": \"Multi\", \"Indicator Category\": \"Vaccinated (\\u22651 dose)\", \"Estimate (%)\": 95.0}, {\"Geography\": \"Maine\", \"Group Category\": \"White, non-Hispanic\", \"Indicator Category\": \"Vaccinated (\\u22651 dose)\", \"Estimate (%)\": 97.5}, {\"Geography\": \"Ohio\", \"Group Category\": \"Black, non-Hispanic\", \"Indicator Category\": \"Vaccinated (\\u22651 dose)\", \"Estimate (%)\": 72.9}, {\"Geography\": \"Ohio\", \"Group Category\": \"Hispanic/Latino\", \"Indicator Category\": \"Vaccinated (\\u22651 dose)\", \"Estimate (%)\": 62.1}, {\"Geography\": \"Ohio\", \"Group Category\": \"White, non-Hispanic\", \"Indicator Category\": \"Vaccinated (\\u22651 dose)\", \"Estimate (%)\": 76.8}, {\"Geography\": \"Wisconsin\", \"Group Category\": \"Black, non-Hispanic\", \"Indicator Category\": \"Vaccinated (\\u22651 dose)\", \"Estimate (%)\": 86.0}, {\"Geography\": \"Wisconsin\", \"Group Category\": \"Hispanic/Latino\", \"Indicator Category\": \"Vaccinated (\\u22651 dose)\", \"Estimate (%)\": 68.1}, {\"Geography\": \"Wisconsin\", \"Group Category\": \"White, non-Hispanic\", \"Indicator Category\": \"Vaccinated (\\u22651 dose)\", \"Estimate (%)\": 77.9}, {\"Geography\": \"Arkansas\", \"Group Category\": \"Black, non-Hispanic\", \"Indicator Category\": \"Vaccinated (\\u22651 dose)\", \"Estimate (%)\": 84.1}, {\"Geography\": \"Arkansas\", \"Group Category\": \"Hispanic/Latino\", \"Indicator Category\": \"Vaccinated (\\u22651 dose)\", \"Estimate (%)\": 71.2}, {\"Geography\": \"Arkansas\", \"Group Category\": \"Multi\", \"Indicator Category\": \"Vaccinated (\\u22651 dose)\", \"Estimate (%)\": 67.2}, {\"Geography\": \"Arkansas\", \"Group Category\": \"White, non-Hispanic\", \"Indicator Category\": \"Vaccinated (\\u22651 dose)\", \"Estimate (%)\": 76.7}, {\"Geography\": \"Louisiana\", \"Group Category\": \"Black, non-Hispanic\", \"Indicator Category\": \"Vaccinated (\\u22651 dose)\", \"Estimate (%)\": 88.1}, {\"Geography\": \"Louisiana\", \"Group Category\": \"Hispanic/Latino\", \"Indicator Category\": \"Vaccinated (\\u22651 dose)\", \"Estimate (%)\": 76.3}, {\"Geography\": \"Louisiana\", \"Group Category\": \"Multi\", \"Indicator Category\": \"Vaccinated (\\u22651 dose)\", \"Estimate (%)\": 57.7}, {\"Geography\": \"Louisiana\", \"Group Category\": \"White, non-Hispanic\", \"Indicator Category\": \"Vaccinated (\\u22651 dose)\", \"Estimate (%)\": 74.5}, {\"Geography\": \"New Mexico\", \"Group Category\": \"Hispanic/Latino\", \"Indicator Category\": \"Vaccinated (\\u22651 dose)\", \"Estimate (%)\": 86.8}, {\"Geography\": \"New Mexico\", \"Group Category\": \"Multi\", \"Indicator Category\": \"Vaccinated (\\u22651 dose)\", \"Estimate (%)\": 73.4}, {\"Geography\": \"New Mexico\", \"Group Category\": \"White, non-Hispanic\", \"Indicator Category\": \"Vaccinated (\\u22651 dose)\", \"Estimate (%)\": 87.6}, {\"Geography\": \"New Mexico\", \"Group Category\": \"AI/AN, Non-Hispanic\", \"Indicator Category\": \"Vaccinated (\\u22651 dose)\", \"Estimate (%)\": 94.2}, {\"Geography\": \"Oklahoma\", \"Group Category\": \"Black, non-Hispanic\", \"Indicator Category\": \"Vaccinated (\\u22651 dose)\", \"Estimate (%)\": 71.8}, {\"Geography\": \"Oklahoma\", \"Group Category\": \"Hispanic/Latino\", \"Indicator Category\": \"Vaccinated (\\u22651 dose)\", \"Estimate (%)\": 76.8}, {\"Geography\": \"Oklahoma\", \"Group Category\": \"Multi\", \"Indicator Category\": \"Vaccinated (\\u22651 dose)\", \"Estimate (%)\": 63.0}, {\"Geography\": \"Oklahoma\", \"Group Category\": \"White, non-Hispanic\", \"Indicator Category\": \"Vaccinated (\\u22651 dose)\", \"Estimate (%)\": 76.6}, {\"Geography\": \"Oklahoma\", \"Group Category\": \"AI/AN, Non-Hispanic\", \"Indicator Category\": \"Vaccinated (\\u22651 dose)\", \"Estimate (%)\": 61.0}, {\"Geography\": \"Iowa\", \"Group Category\": \"White, non-Hispanic\", \"Indicator Category\": \"Vaccinated (\\u22651 dose)\", \"Estimate (%)\": 79.4}, {\"Geography\": \"New Hampshire\", \"Group Category\": \"Hispanic/Latino\", \"Indicator Category\": \"Vaccinated (\\u22651 dose)\", \"Estimate (%)\": 94.9}, {\"Geography\": \"New Hampshire\", \"Group Category\": \"Multi\", \"Indicator Category\": \"Vaccinated (\\u22651 dose)\", \"Estimate (%)\": 91.8}, {\"Geography\": \"New Hampshire\", \"Group Category\": \"White, non-Hispanic\", \"Indicator Category\": \"Vaccinated (\\u22651 dose)\", \"Estimate (%)\": 97.1}, {\"Geography\": \"Kansas\", \"Group Category\": \"Black, non-Hispanic\", \"Indicator Category\": \"Vaccinated (\\u22651 dose)\", \"Estimate (%)\": 80.9}, {\"Geography\": \"Kansas\", \"Group Category\": \"Hispanic/Latino\", \"Indicator Category\": \"Vaccinated (\\u22651 dose)\", \"Estimate (%)\": 66.3}, {\"Geography\": \"Kansas\", \"Group Category\": \"White, non-Hispanic\", \"Indicator Category\": \"Vaccinated (\\u22651 dose)\", \"Estimate (%)\": 80.7}, {\"Geography\": \"Missouri\", \"Group Category\": \"Black, non-Hispanic\", \"Indicator Category\": \"Vaccinated (\\u22651 dose)\", \"Estimate (%)\": 91.7}, {\"Geography\": \"Missouri\", \"Group Category\": \"Hispanic/Latino\", \"Indicator Category\": \"Vaccinated (\\u22651 dose)\", \"Estimate (%)\": 87.0}, {\"Geography\": \"Missouri\", \"Group Category\": \"White, non-Hispanic\", \"Indicator Category\": \"Vaccinated (\\u22651 dose)\", \"Estimate (%)\": 78.7}, {\"Geography\": \"Nebraska\", \"Group Category\": \"Hispanic/Latino\", \"Indicator Category\": \"Vaccinated (\\u22651 dose)\", \"Estimate (%)\": 72.5}, {\"Geography\": \"Nebraska\", \"Group Category\": \"White, non-Hispanic\", \"Indicator Category\": \"Vaccinated (\\u22651 dose)\", \"Estimate (%)\": 83.2}, {\"Geography\": \"Colorado\", \"Group Category\": \"Hispanic/Latino\", \"Indicator Category\": \"Vaccinated (\\u22651 dose)\", \"Estimate (%)\": 90.2}, {\"Geography\": \"Colorado\", \"Group Category\": \"White, non-Hispanic\", \"Indicator Category\": \"Vaccinated (\\u22651 dose)\", \"Estimate (%)\": 90.1}, {\"Geography\": \"Montana\", \"Group Category\": \"Hispanic/Latino\", \"Indicator Category\": \"Vaccinated (\\u22651 dose)\", \"Estimate (%)\": 71.5}, {\"Geography\": \"Montana\", \"Group Category\": \"White, non-Hispanic\", \"Indicator Category\": \"Vaccinated (\\u22651 dose)\", \"Estimate (%)\": 73.7}, {\"Geography\": \"Montana\", \"Group Category\": \"AI/AN, Non-Hispanic\", \"Indicator Category\": \"Vaccinated (\\u22651 dose)\", \"Estimate (%)\": 89.8}, {\"Geography\": \"North Dakota\", \"Group Category\": \"White, non-Hispanic\", \"Indicator Category\": \"Vaccinated (\\u22651 dose)\", \"Estimate (%)\": 75.5}, {\"Geography\": \"South Dakota\", \"Group Category\": \"Hispanic/Latino\", \"Indicator Category\": \"Vaccinated (\\u22651 dose)\", \"Estimate (%)\": 74.3}, {\"Geography\": \"South Dakota\", \"Group Category\": \"White, non-Hispanic\", \"Indicator Category\": \"Vaccinated (\\u22651 dose)\", \"Estimate (%)\": 80.3}, {\"Geography\": \"South Dakota\", \"Group Category\": \"AI/AN, Non-Hispanic\", \"Indicator Category\": \"Vaccinated (\\u22651 dose)\", \"Estimate (%)\": 91.2}, {\"Geography\": \"Utah\", \"Group Category\": \"Hispanic/Latino\", \"Indicator Category\": \"Vaccinated (\\u22651 dose)\", \"Estimate (%)\": 92.6}, {\"Geography\": \"Utah\", \"Group Category\": \"White, non-Hispanic\", \"Indicator Category\": \"Vaccinated (\\u22651 dose)\", \"Estimate (%)\": 88.5}, {\"Geography\": \"Wyoming\", \"Group Category\": \"Hispanic/Latino\", \"Indicator Category\": \"Vaccinated (\\u22651 dose)\", \"Estimate (%)\": 75.4}, {\"Geography\": \"Wyoming\", \"Group Category\": \"White, non-Hispanic\", \"Indicator Category\": \"Vaccinated (\\u22651 dose)\", \"Estimate (%)\": 67.3}, {\"Geography\": \"Arizona\", \"Group Category\": \"Black, non-Hispanic\", \"Indicator Category\": \"Vaccinated (\\u22651 dose)\", \"Estimate (%)\": 81.6}, {\"Geography\": \"Arizona\", \"Group Category\": \"Hispanic/Latino\", \"Indicator Category\": \"Vaccinated (\\u22651 dose)\", \"Estimate (%)\": 80.7}, {\"Geography\": \"Arizona\", \"Group Category\": \"Multi\", \"Indicator Category\": \"Vaccinated (\\u22651 dose)\", \"Estimate (%)\": 75.2}, {\"Geography\": \"Arizona\", \"Group Category\": \"White, non-Hispanic\", \"Indicator Category\": \"Vaccinated (\\u22651 dose)\", \"Estimate (%)\": 85.3}, {\"Geography\": \"Arizona\", \"Group Category\": \"Asian, non-Hispanic\", \"Indicator Category\": \"Vaccinated (\\u22651 dose)\", \"Estimate (%)\": 96.0}, {\"Geography\": \"Arizona\", \"Group Category\": \"AI/AN, Non-Hispanic\", \"Indicator Category\": \"Vaccinated (\\u22651 dose)\", \"Estimate (%)\": 75.6}, {\"Geography\": \"Rhode Island\", \"Group Category\": \"Hispanic/Latino\", \"Indicator Category\": \"Vaccinated (\\u22651 dose)\", \"Estimate (%)\": 87.4}, {\"Geography\": \"Rhode Island\", \"Group Category\": \"White, non-Hispanic\", \"Indicator Category\": \"Vaccinated (\\u22651 dose)\", \"Estimate (%)\": 99.0}, {\"Geography\": \"California\", \"Group Category\": \"Black, non-Hispanic\", \"Indicator Category\": \"Vaccinated (\\u22651 dose)\", \"Estimate (%)\": 91.6}, {\"Geography\": \"California\", \"Group Category\": \"Hispanic/Latino\", \"Indicator Category\": \"Vaccinated (\\u22651 dose)\", \"Estimate (%)\": 92.8}, {\"Geography\": \"California\", \"Group Category\": \"Multi\", \"Indicator Category\": \"Vaccinated (\\u22651 dose)\", \"Estimate (%)\": 95.6}, {\"Geography\": \"California\", \"Group Category\": \"White, non-Hispanic\", \"Indicator Category\": \"Vaccinated (\\u22651 dose)\", \"Estimate (%)\": 94.0}, {\"Geography\": \"California\", \"Group Category\": \"Asian, non-Hispanic\", \"Indicator Category\": \"Vaccinated (\\u22651 dose)\", \"Estimate (%)\": 99.4}, {\"Geography\": \"Hawaii\", \"Group Category\": \"Black, non-Hispanic\", \"Indicator Category\": \"Vaccinated (\\u22651 dose)\", \"Estimate (%)\": 96.9}, {\"Geography\": \"Hawaii\", \"Group Category\": \"Hispanic/Latino\", \"Indicator Category\": \"Vaccinated (\\u22651 dose)\", \"Estimate (%)\": 84.0}, {\"Geography\": \"Hawaii\", \"Group Category\": \"Multi\", \"Indicator Category\": \"Vaccinated (\\u22651 dose)\", \"Estimate (%)\": 89.7}, {\"Geography\": \"Hawaii\", \"Group Category\": \"White, non-Hispanic\", \"Indicator Category\": \"Vaccinated (\\u22651 dose)\", \"Estimate (%)\": 94.4}, {\"Geography\": \"Hawaii\", \"Group Category\": \"NHOPI, Non-Hispanic\", \"Indicator Category\": \"Vaccinated (\\u22651 dose)\", \"Estimate (%)\": 89.6}, {\"Geography\": \"Hawaii\", \"Group Category\": \"Asian, non-Hispanic\", \"Indicator Category\": \"Vaccinated (\\u22651 dose)\", \"Estimate (%)\": 97.9}, {\"Geography\": \"Nevada\", \"Group Category\": \"Black, non-Hispanic\", \"Indicator Category\": \"Vaccinated (\\u22651 dose)\", \"Estimate (%)\": 78.8}, {\"Geography\": \"Nevada\", \"Group Category\": \"Hispanic/Latino\", \"Indicator Category\": \"Vaccinated (\\u22651 dose)\", \"Estimate (%)\": 82.4}, {\"Geography\": \"Nevada\", \"Group Category\": \"Multi\", \"Indicator Category\": \"Vaccinated (\\u22651 dose)\", \"Estimate (%)\": 72.8}, {\"Geography\": \"Nevada\", \"Group Category\": \"White, non-Hispanic\", \"Indicator Category\": \"Vaccinated (\\u22651 dose)\", \"Estimate (%)\": 87.8}, {\"Geography\": \"Nevada\", \"Group Category\": \"Asian, non-Hispanic\", \"Indicator Category\": \"Vaccinated (\\u22651 dose)\", \"Estimate (%)\": 93.0}, {\"Geography\": \"Alaska\", \"Group Category\": \"Hispanic/Latino\", \"Indicator Category\": \"Vaccinated (\\u22651 dose)\", \"Estimate (%)\": 81.3}, {\"Geography\": \"Alaska\", \"Group Category\": \"Multi\", \"Indicator Category\": \"Vaccinated (\\u22651 dose)\", \"Estimate (%)\": 73.0}, {\"Geography\": \"Alaska\", \"Group Category\": \"White, non-Hispanic\", \"Indicator Category\": \"Vaccinated (\\u22651 dose)\", \"Estimate (%)\": 81.4}, {\"Geography\": \"Alaska\", \"Group Category\": \"AI/AN, Non-Hispanic\", \"Indicator Category\": \"Vaccinated (\\u22651 dose)\", \"Estimate (%)\": 80.3}, {\"Geography\": \"Idaho\", \"Group Category\": \"Hispanic/Latino\", \"Indicator Category\": \"Vaccinated (\\u22651 dose)\", \"Estimate (%)\": 83.7}, {\"Geography\": \"Idaho\", \"Group Category\": \"White, non-Hispanic\", \"Indicator Category\": \"Vaccinated (\\u22651 dose)\", \"Estimate (%)\": 78.5}, {\"Geography\": \"Oregon\", \"Group Category\": \"Hispanic/Latino\", \"Indicator Category\": \"Vaccinated (\\u22651 dose)\", \"Estimate (%)\": 84.3}, {\"Geography\": \"Oregon\", \"Group Category\": \"White, non-Hispanic\", \"Indicator Category\": \"Vaccinated (\\u22651 dose)\", \"Estimate (%)\": 91.0}, {\"Geography\": \"Washington\", \"Group Category\": \"Hispanic/Latino\", \"Indicator Category\": \"Vaccinated (\\u22651 dose)\", \"Estimate (%)\": 91.9}, {\"Geography\": \"Washington\", \"Group Category\": \"Multi\", \"Indicator Category\": \"Vaccinated (\\u22651 dose)\", \"Estimate (%)\": 85.9}, {\"Geography\": \"Washington\", \"Group Category\": \"White, non-Hispanic\", \"Indicator Category\": \"Vaccinated (\\u22651 dose)\", \"Estimate (%)\": 89.6}, {\"Geography\": \"Vermont\", \"Group Category\": \"Multi\", \"Indicator Category\": \"Vaccinated (\\u22651 dose)\", \"Estimate (%)\": 93.1}, {\"Geography\": \"Vermont\", \"Group Category\": \"White, non-Hispanic\", \"Indicator Category\": \"Vaccinated (\\u22651 dose)\", \"Estimate (%)\": 98.2}, {\"Geography\": \"Vermont\", \"Group Category\": \"Asian, non-Hispanic\", \"Indicator Category\": \"Vaccinated (\\u22651 dose)\", \"Estimate (%)\": 89.0}, {\"Geography\": \"Illinois\", \"Group Category\": \"Black, non-Hispanic\", \"Indicator Category\": \"Vaccinated (\\u22651 dose)\", \"Estimate (%)\": 85.7}, {\"Geography\": \"Illinois\", \"Group Category\": \"Hispanic/Latino\", \"Indicator Category\": \"Vaccinated (\\u22651 dose)\", \"Estimate (%)\": 85.7}, {\"Geography\": \"Illinois\", \"Group Category\": \"Multi\", \"Indicator Category\": \"Vaccinated (\\u22651 dose)\", \"Estimate (%)\": 55.5}, {\"Geography\": \"Illinois\", \"Group Category\": \"White, non-Hispanic\", \"Indicator Category\": \"Vaccinated (\\u22651 dose)\", \"Estimate (%)\": 86.3}, {\"Geography\": \"Illinois\", \"Group Category\": \"Asian, non-Hispanic\", \"Indicator Category\": \"Vaccinated (\\u22651 dose)\", \"Estimate (%)\": 92.0}, {\"Geography\": \"New York\", \"Group Category\": \"Black, non-Hispanic\", \"Indicator Category\": \"Vaccinated (\\u22651 dose)\", \"Estimate (%)\": 97.2}, {\"Geography\": \"New York\", \"Group Category\": \"Hispanic/Latino\", \"Indicator Category\": \"Vaccinated (\\u22651 dose)\", \"Estimate (%)\": 97.4}, {\"Geography\": \"New York\", \"Group Category\": \"Multi\", \"Indicator Category\": \"Vaccinated (\\u22651 dose)\", \"Estimate (%)\": 94.9}, {\"Geography\": \"New York\", \"Group Category\": \"White, non-Hispanic\", \"Indicator Category\": \"Vaccinated (\\u22651 dose)\", \"Estimate (%)\": 98.0}, {\"Geography\": \"New York\", \"Group Category\": \"Asian, non-Hispanic\", \"Indicator Category\": \"Vaccinated (\\u22651 dose)\", \"Estimate (%)\": 99.9}, {\"Geography\": \"Pennsylvania\", \"Group Category\": \"Black, non-Hispanic\", \"Indicator Category\": \"Vaccinated (\\u22651 dose)\", \"Estimate (%)\": 90.5}, {\"Geography\": \"Pennsylvania\", \"Group Category\": \"Hispanic/Latino\", \"Indicator Category\": \"Vaccinated (\\u22651 dose)\", \"Estimate (%)\": 88.2}, {\"Geography\": \"Pennsylvania\", \"Group Category\": \"Multi\", \"Indicator Category\": \"Vaccinated (\\u22651 dose)\", \"Estimate (%)\": 97.0}, {\"Geography\": \"Pennsylvania\", \"Group Category\": \"White, non-Hispanic\", \"Indicator Category\": \"Vaccinated (\\u22651 dose)\", \"Estimate (%)\": 91.1}, {\"Geography\": \"Pennsylvania\", \"Group Category\": \"Asian, non-Hispanic\", \"Indicator Category\": \"Vaccinated (\\u22651 dose)\", \"Estimate (%)\": 98.6}, {\"Geography\": \"Texas\", \"Group Category\": \"Black, non-Hispanic\", \"Indicator Category\": \"Vaccinated (\\u22651 dose)\", \"Estimate (%)\": 89.7}, {\"Geography\": \"Texas\", \"Group Category\": \"Hispanic/Latino\", \"Indicator Category\": \"Vaccinated (\\u22651 dose)\", \"Estimate (%)\": 82.8}, {\"Geography\": \"Texas\", \"Group Category\": \"Multi\", \"Indicator Category\": \"Vaccinated (\\u22651 dose)\", \"Estimate (%)\": 75.9}, {\"Geography\": \"Texas\", \"Group Category\": \"White, non-Hispanic\", \"Indicator Category\": \"Vaccinated (\\u22651 dose)\", \"Estimate (%)\": 81.5}, {\"Geography\": \"Texas\", \"Group Category\": \"Asian, non-Hispanic\", \"Indicator Category\": \"Vaccinated (\\u22651 dose)\", \"Estimate (%)\": 96.9}, {\"Geography\": \"New Jersey\", \"Group Category\": \"Black, non-Hispanic\", \"Indicator Category\": \"Vaccinated (\\u22651 dose)\", \"Estimate (%)\": 95.2}, {\"Geography\": \"New Jersey\", \"Group Category\": \"Hispanic/Latino\", \"Indicator Category\": \"Vaccinated (\\u22651 dose)\", \"Estimate (%)\": 95.7}, {\"Geography\": \"New Jersey\", \"Group Category\": \"Multi\", \"Indicator Category\": \"Vaccinated (\\u22651 dose)\", \"Estimate (%)\": 97.2}, {\"Geography\": \"New Jersey\", \"Group Category\": \"White, non-Hispanic\", \"Indicator Category\": \"Vaccinated (\\u22651 dose)\", \"Estimate (%)\": 98.3}, {\"Geography\": \"New Jersey\", \"Group Category\": \"Asian, non-Hispanic\", \"Indicator Category\": \"Vaccinated (\\u22651 dose)\", \"Estimate (%)\": 99.9}]}}, {\"mode\": \"vega-lite\"});\n",
       "</script>"
      ],
      "text/plain": [
       "alt.HConcatChart(...)"
      ]
     },
     "execution_count": 8,
     "metadata": {},
     "output_type": "execute_result"
    }
   ],
   "source": [
    "finaldashboard = background + heat_map_alt | bar_plot_alt\n",
    "finaldashboard"
   ]
  },
  {
   "cell_type": "code",
   "execution_count": 9,
   "metadata": {},
   "outputs": [],
   "source": [
    "myJekyllSaveDir = '/Users/zhaoyingjie/online_cv_public/assets/json'"
   ]
  },
  {
   "cell_type": "code",
   "execution_count": 10,
   "metadata": {},
   "outputs": [],
   "source": [
    "finaldashboard.save(myJekyllSaveDir+'finaldashboard.json')"
   ]
  },
  {
   "cell_type": "markdown",
   "metadata": {},
   "source": [
    "### Write-up\n",
    "One paragraph explaining how to use the dashboard you created, to help someone who is not an expert understand your dataset.\n",
    "\n",
    "As shown above, this is the dashboard we built for the National Immunization Survey dataset. On the left side, we have the United States geographical heat map with Vaccination Rate Estimates of each state as values display in different colors. The color atla besides the heat map indicates that the higher Vaccination Rate Estimates value, the deeper the color. On the right side, we have a histogram using the Mean of Estimate as the horizontal axis and the Race/Ethnicity group categories. To use the dashboard, we can choose a state by clicking on the dropbox, and the chosen state will highlight on the map while the right plot display its Vaccination Rate Estimates value of different race/ethnicity group interactively."
   ]
  },
  {
   "cell_type": "markdown",
   "metadata": {},
   "source": [
    "### Contextual dataset 1"
   ]
  },
  {
   "cell_type": "markdown",
   "metadata": {},
   "source": [
    " Title: Provisional COVID-19 Deaths by Sex and Age"
   ]
  },
  {
   "cell_type": "markdown",
   "metadata": {},
   "source": [
    " Link: https://data.cdc.gov/NCHS/Provisional-COVID-19-Deaths-by-Sex-and-Age/9bhg-hcku"
   ]
  },
  {
   "cell_type": "markdown",
   "metadata": {},
   "source": [
    "This contextual dataset records the convid-19 deaths by sex, age, state, and date. In the part 1, our group decided to use the dataset of Vaccination Status and Intent by Demographics. Both of these two datasets is about the covid-19, but one includes immunization records and the other has death reports. Hence, our group thinks the contextual dataset would be helpful for our project. For instance, we can see identify the high-risk group based on the data of contextual datase, and see the relationship with the vaccination status."
   ]
  },
  {
   "cell_type": "markdown",
   "metadata": {},
   "source": [
    "### Contextual dataset 2"
   ]
  },
  {
   "cell_type": "markdown",
   "metadata": {},
   "source": [
    "Title: COVID-19 Vaccine Delivery\n",
    "Link: https://catalog.data.gov/dataset/covid-19-vaccine-delivery\n",
    "\n",
    "This dataset provides good, accurate and timely information on vaccine delivery, and the amount of vaccine available may have an impact on changes in vaccine uptake. We think this data set can be a good help to verify some conclusions - for example: whether the number of people vaccinated in a certain period is low because there is not enough vaccine in this local area."
   ]
  }
 ],
 "metadata": {
  "kernelspec": {
   "display_name": "Python 3 (ipykernel)",
   "language": "python",
   "name": "python3"
  },
  "language_info": {
   "codemirror_mode": {
    "name": "ipython",
    "version": 3
   },
   "file_extension": ".py",
   "mimetype": "text/x-python",
   "name": "python",
   "nbconvert_exporter": "python",
   "pygments_lexer": "ipython3",
   "version": "3.9.12"
  },
  "vscode": {
   "interpreter": {
    "hash": "1602a90bb8e052cfd8fa4aa83f5e69125f95ad8187c3f2a46ed8fad2462c4055"
   }
  }
 },
 "nbformat": 4,
 "nbformat_minor": 2
}
